{
 "cells": [
  {
   "attachments": {},
   "cell_type": "markdown",
   "metadata": {},
   "source": [
    "# Redes Neurais Artificiais - Adaline"
   ]
  },
  {
   "attachments": {},
   "cell_type": "markdown",
   "metadata": {},
   "source": [
    "**Acompanhar explicação pelos slides da teoria.**"
   ]
  },
  {
   "attachments": {},
   "cell_type": "markdown",
   "metadata": {},
   "source": [
    "### Criação dos dados:"
   ]
  },
  {
   "cell_type": "code",
   "execution_count": null,
   "metadata": {},
   "outputs": [],
   "source": [
    "import numpy as np\n",
    "\n",
    "dados = np.array(\n",
    "    [[5.7, 7.5], [9.3, 5.6], [8.8, 6.9], [6.8, 9.2], [7.9, 9.1],\n",
    "    [8.8, 5.6], [5.6, 7.8], [8.8, 9.0], [7.6, 5.9], [4.9, 8.1],\n",
    "    [6.6, 4.5], [5.2, 7.2], [1.2, 1.2], [2.4, 1.6], [4.7, 2.5],\n",
    "    [0.9, 3.1], [2.6, 4.1], [1.8, 2.0], [4.1, 2.8], [1.8, 1.6],\n",
    "    [1.9, 3.1], [0.8, 3.2], [1.8, 2.9], [3.3, 1.6], [3.7, 2.5]\n",
    "  ])\n",
    "\n",
    "alvos = np.array([1, 1, 1, 1, 1, 1, 1, 1, 1, 1, 1, 1, -1, -1, -1, -1, -1, -1, -1, -1, -1, -1, -1, -1, -1])"
   ]
  },
  {
   "cell_type": "code",
   "execution_count": null,
   "metadata": {},
   "outputs": [],
   "source": [
    "import matplotlib.pyplot as plt\n",
    "\n",
    "plt.title(\"'dados' separado por 'alvos'\")\n",
    "plt.scatter(dados[:, 0], dados[:, 1], c = alvos)\n",
    "plt.show()"
   ]
  },
  {
   "attachments": {},
   "cell_type": "markdown",
   "metadata": {},
   "source": [
    "### Modelando rede Adaline:"
   ]
  },
  {
   "cell_type": "code",
   "execution_count": null,
   "metadata": {},
   "outputs": [],
   "source": [
    "class Adaline:\n",
    "    def __init__(self, taxa_aprendizado: float, taxa_erro_aceitavel: float):\n",
    "        self.taxa_aprendizado = taxa_aprendizado\n",
    "        self.taxa_erro_aceitavel = taxa_erro_aceitavel\n",
    "\n",
    "    def __ativacao(self, valor: float) -> int:\n",
    "        '''\n",
    "            Função de ativação.\n",
    "        '''\n",
    "        if valor >= 0:\n",
    "            return 1\n",
    "        else:\n",
    "            return -1\n",
    "        \n",
    "    def __predicao(self, valor: float) -> float:\n",
    "        '''\n",
    "            Função de predição.\n",
    "            Realiza a multiplicação matricial entre as entradas e os pesos somado ao bias proporcional.\n",
    "        '''\n",
    "        return np.dot(valor, self.pesos.T) + self.bias * self.peso_bias\n",
    "    \n",
    "    def __avaliacao(self, valor_alvo: float, valor_saida: float) -> float:\n",
    "        '''\n",
    "            Função de avaliação.\n",
    "            Calcula a diferença entre o valor alvo e o valor de saida.\n",
    "        '''\n",
    "        return (valor_alvo - valor_saida)\n",
    "    \n",
    "    def treinar(self, dados: list[list[float]], alvos: list[float]):\n",
    "        '''\n",
    "            Treino da rede Adaline.\n",
    "            Define aleatoriamente os pesos e o peso do bias.\n",
    "            Enquanto a taxa de erro for maior que o aceitável continua o processo.\n",
    "        '''\n",
    "        self.pesos: list[float] = np.random.random(dados.shape[1])\n",
    "        self.peso_bias: float = np.random.random()\n",
    "        self.bias = -1\n",
    "\n",
    "        epoca = 0\n",
    "        self.erros = []\n",
    "\n",
    "        while True:\n",
    "\n",
    "            erro_medio_quadratico_epoca = 0\n",
    "\n",
    "            for dado, alvo in zip(dados, alvos):\n",
    "\n",
    "                predito = self.__predicao(dado)\n",
    "                erro = self.__avaliacao(alvo, predito)\n",
    "                self.pesos += self.taxa_aprendizado * erro * dado\n",
    "                self.peso_bias += self.taxa_aprendizado * erro * self.bias\n",
    "                \n",
    "                erro_medio_quadratico_epoca += erro ** 2\n",
    "\n",
    "            erro_medio_quadratico_epoca = erro_medio_quadratico_epoca / len(dados)\n",
    "            taxa_erro = abs((np.inf if not len(self.erros) else self.erros[-1]) - erro_medio_quadratico_epoca)\n",
    "            print(f'Época: {epoca}\\n\\t- Erro Quadratico Medio: {erro_medio_quadratico_epoca}\\n\\t- Taxa Erro: {taxa_erro}')\n",
    "            if taxa_erro <= self.taxa_erro_aceitavel:\n",
    "                break\n",
    "\n",
    "            self.erros.append(erro_medio_quadratico_epoca)\n",
    "            epoca += 1\n",
    "\n",
    "    def testar(self, dados: list[list[float]]) -> list[float]:\n",
    "        '''\n",
    "            Testa a rede treinada.\n",
    "            Dado os dados, submete-os à rede para predição da saída.\n",
    "        '''\n",
    "        saidas = []\n",
    "        for dado in dados:\n",
    "            predicao = self.__predicao(dado)\n",
    "            saida = self.__ativacao(predicao)\n",
    "            saidas.append(saida)\n",
    "\n",
    "        return saidas"
   ]
  },
  {
   "attachments": {},
   "cell_type": "markdown",
   "metadata": {},
   "source": [
    "### Treinando a rede:"
   ]
  },
  {
   "cell_type": "code",
   "execution_count": null,
   "metadata": {},
   "outputs": [],
   "source": [
    "rede_adaline = Adaline(taxa_aprendizado=0.01, taxa_erro_aceitavel=1e-5)\n",
    "\n",
    "rede_adaline.treinar(dados=dados, alvos=alvos)"
   ]
  },
  {
   "attachments": {},
   "cell_type": "markdown",
   "metadata": {},
   "source": [
    "### Testando a rede:"
   ]
  },
  {
   "cell_type": "code",
   "execution_count": null,
   "metadata": {},
   "outputs": [],
   "source": [
    "dados_teste = np.array([[6, 2], [9, 3], [5, 6], [7, 3], [6, 7], [1, 6]])\n",
    "\n",
    "saidas_teste = rede_adaline.testar(dados=dados_teste)\n",
    "\n",
    "plt.title(\"'dados' e 'alvos' com as 'saidas_teste'\")\n",
    "plt.scatter(dados[:, 0], dados[:, 1], c = alvos)\n",
    "plt.scatter(dados_teste[:, 0], dados_teste[:, 1], c = saidas_teste, marker = \"*\")\n",
    "plt.show()"
   ]
  },
  {
   "attachments": {},
   "cell_type": "markdown",
   "metadata": {},
   "source": [
    "### Métricas da rede treinada:"
   ]
  },
  {
   "attachments": {},
   "cell_type": "markdown",
   "metadata": {},
   "source": [
    "Valores de erro:"
   ]
  },
  {
   "cell_type": "code",
   "execution_count": null,
   "metadata": {},
   "outputs": [],
   "source": [
    "plt.title(\"Erro por época.\")\n",
    "plt.plot(rede_adaline.erros)\n",
    "plt.show()"
   ]
  },
  {
   "attachments": {},
   "cell_type": "markdown",
   "metadata": {},
   "source": [
    "Pesos da rede:"
   ]
  },
  {
   "cell_type": "code",
   "execution_count": null,
   "metadata": {},
   "outputs": [],
   "source": [
    "print(f'Peso bias: {rede_adaline.peso_bias}')\n",
    "print(f'Peso w1: {rede_adaline.pesos[0]}')\n",
    "print(f'Peso w2: {rede_adaline.pesos[1]}')"
   ]
  }
 ],
 "metadata": {
  "kernelspec": {
   "display_name": "Python 3",
   "language": "python",
   "name": "python3"
  },
  "language_info": {
   "codemirror_mode": {
    "name": "ipython",
    "version": 3
   },
   "file_extension": ".py",
   "mimetype": "text/x-python",
   "name": "python",
   "nbconvert_exporter": "python",
   "pygments_lexer": "ipython3",
   "version": "3.9.2"
  },
  "orig_nbformat": 4
 },
 "nbformat": 4,
 "nbformat_minor": 2
}
